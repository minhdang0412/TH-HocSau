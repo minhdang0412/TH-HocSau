{
 "cells": [
  {
   "cell_type": "markdown",
   "metadata": {},
   "source": [
    "Vấn đề 1: Tiến hành tải dữ liệu vào chương trình ứng dụng Python và giải quyết vấn đề \n",
    "“Missing header in the csv file”"
   ]
  },
  {
   "cell_type": "code",
   "execution_count": 19,
   "metadata": {},
   "outputs": [
    {
     "name": "stdout",
     "output_type": "stream",
     "text": [
      "    Id            Name   Age      Weight m0006 m0612 m1218 f0006 f0612 f1218\n",
      "0  1.0    Mickéy Mousé  56.0       70kgs    72    69    71     -     -     -\n",
      "1  2.0     Donald Duck  34.0   154.89lbs     -     -     -    85    84    76\n",
      "2  3.0      Mini Mouse  16.0         NaN     -     -     -    65    69    72\n",
      "3  4.0  Scrooge McDuck   NaN       78kgs    78    79    72     -     -     -\n",
      "4  5.0    Pink Panther  54.0  198.658lbs     -     -     -    69   NaN    75\n"
     ]
    }
   ],
   "source": [
    "import pandas as pd\n",
    "column_names = [\"Id\", \"Name\", \"Age\", \"Weight\", \"m0006\", \"m0612\", \"m1218\", \"f0006\", \"f0612\", \"f1218\"]\n",
    "df=pd.read_csv(\"https://raw.githubusercontent.com/huynhhoc/DataAnalystDeepLearning/main/Data/patient_heart_rate.csv\",names=column_names)\n",
    "print(df.head())\n"
   ]
  },
  {
   "cell_type": "markdown",
   "metadata": {},
   "source": [
    "Vấn đề 2: Xử lý vấn đề một cột lưu hỗn hợp nhiều dữ liệu, ở đây là cột “Name” chứa bao \n",
    "gồm “Firstname” và “Lastname”, giải pháp là ta sẽ tách ra làm 2 cột "
   ]
  },
  {
   "cell_type": "code",
   "execution_count": 20,
   "metadata": {},
   "outputs": [
    {
     "name": "stdout",
     "output_type": "stream",
     "text": [
      "      Id   Age      Weight m0006 m0612 m1218 f0006 f0612 f1218 Firstname  \\\n",
      "0    1.0  56.0       70kgs    72    69    71     -     -     -    Mickéy   \n",
      "1    2.0  34.0   154.89lbs     -     -     -    85    84    76    Donald   \n",
      "2    3.0  16.0         NaN     -     -     -    65    69    72      Mini   \n",
      "3    4.0   NaN       78kgs    78    79    72     -     -     -   Scrooge   \n",
      "4    5.0  54.0  198.658lbs     -     -     -    69   NaN    75      Pink   \n",
      "5    6.0  52.0      189lbs     -     -     -    68    75    72      Huey   \n",
      "6    7.0  19.0       56kgs     -     -     -    71    78    75     Dewey   \n",
      "7    8.0  32.0       78kgs    78    76    75     -     -     -    Scööpy   \n",
      "8    NaN   NaN         NaN   NaN   NaN   NaN   NaN   NaN   NaN       NaN   \n",
      "9    NaN   NaN         NaN   NaN   NaN   NaN   NaN   NaN   NaN       NaN   \n",
      "10   9.0  52.0      189lbs     -     -     -    68    75    72      Huey   \n",
      "11  10.0  12.0       45kgs     -     -     -    92    95    87     Louie   \n",
      "12  11.0   NaN       60kgs    78    75    72     -     -     -     Henry   \n",
      "13  12.0  34.0         NaN    65    67    55     -     -     -    Michel   \n",
      "14  13.0   NaN         NaN     -     -     -    68    72    70      Tana   \n",
      "15  14.0   NaN         NaN   NaN   NaN   NaN   NaN   NaN   NaN  UniLever   \n",
      "16  15.0  52.0      180lbs     -     -     -    68    75    72       NaN   \n",
      "\n",
      "   Lastname  \n",
      "0     Mousé  \n",
      "1      Duck  \n",
      "2     Mouse  \n",
      "3    McDuck  \n",
      "4   Panther  \n",
      "5    McDuck  \n",
      "6    McDuck  \n",
      "7       Doo  \n",
      "8       NaN  \n",
      "9       NaN  \n",
      "10   McDuck  \n",
      "11   McDuck  \n",
      "12      Nam  \n",
      "13     Long  \n",
      "14    Ricky  \n",
      "15     None  \n",
      "16      NaN  \n"
     ]
    }
   ],
   "source": [
    "#Problem 2\n",
    "df[['Firstname', 'Lastname']] = df[\"Name\"].str.split(expand=True)\n",
    "\n",
    "df = df.drop('Name', axis=1)\n",
    "print(df)"
   ]
  },
  {
   "cell_type": "markdown",
   "metadata": {},
   "source": [
    "Vấn đề 3: Cột Weight có vấn đề về không thống nhất các đơn vị đo lường trong dữ liệu. \n",
    "Ta sẽ chuyển các đơn vị về thành đơn vị chuẩn “kg”"
   ]
  },
  {
   "cell_type": "code",
   "execution_count": 21,
   "metadata": {},
   "outputs": [
    {
     "name": "stdout",
     "output_type": "stream",
     "text": [
      "      Id   Age Weight m0006 m0612 m1218 f0006 f0612 f1218 Firstname Lastname\n",
      "0    1.0  56.0  70kgs    72    69    71     -     -     -    Mickéy    Mousé\n",
      "1    2.0  34.0  70kgs     -     -     -    85    84    76    Donald     Duck\n",
      "2    3.0  16.0    NaN     -     -     -    65    69    72      Mini    Mouse\n",
      "3    4.0   NaN  78kgs    78    79    72     -     -     -   Scrooge   McDuck\n",
      "4    5.0  54.0  90kgs     -     -     -    69   NaN    75      Pink  Panther\n",
      "5    6.0  52.0  85kgs     -     -     -    68    75    72      Huey   McDuck\n",
      "6    7.0  19.0  56kgs     -     -     -    71    78    75     Dewey   McDuck\n",
      "7    8.0  32.0  78kgs    78    76    75     -     -     -    Scööpy      Doo\n",
      "8    NaN   NaN    NaN   NaN   NaN   NaN   NaN   NaN   NaN       NaN      NaN\n",
      "9    NaN   NaN    NaN   NaN   NaN   NaN   NaN   NaN   NaN       NaN      NaN\n",
      "10   9.0  52.0  85kgs     -     -     -    68    75    72      Huey   McDuck\n",
      "11  10.0  12.0  45kgs     -     -     -    92    95    87     Louie   McDuck\n",
      "12  11.0   NaN  60kgs    78    75    72     -     -     -     Henry      Nam\n",
      "13  12.0  34.0    NaN    65    67    55     -     -     -    Michel     Long\n",
      "14  13.0   NaN    NaN     -     -     -    68    72    70      Tana    Ricky\n",
      "15  14.0   NaN    NaN   NaN   NaN   NaN   NaN   NaN   NaN  UniLever     None\n",
      "16  15.0  52.0  81kgs     -     -     -    68    75    72       NaN      NaN\n"
     ]
    },
    {
     "name": "stderr",
     "output_type": "stream",
     "text": [
      "C:\\Users\\Admin\\AppData\\Local\\Temp\\ipykernel_12208\\349082879.py:21: SettingWithCopyWarning: \n",
      "A value is trying to be set on a copy of a slice from a DataFrame\n",
      "\n",
      "See the caveats in the documentation: https://pandas.pydata.org/pandas-docs/stable/user_guide/indexing.html#returning-a-view-versus-a-copy\n",
      "  weight[i]= y\n",
      "C:\\Users\\Admin\\AppData\\Local\\Temp\\ipykernel_12208\\349082879.py:21: SettingWithCopyWarning: \n",
      "A value is trying to be set on a copy of a slice from a DataFrame\n",
      "\n",
      "See the caveats in the documentation: https://pandas.pydata.org/pandas-docs/stable/user_guide/indexing.html#returning-a-view-versus-a-copy\n",
      "  weight[i]= y\n",
      "C:\\Users\\Admin\\AppData\\Local\\Temp\\ipykernel_12208\\349082879.py:21: SettingWithCopyWarning: \n",
      "A value is trying to be set on a copy of a slice from a DataFrame\n",
      "\n",
      "See the caveats in the documentation: https://pandas.pydata.org/pandas-docs/stable/user_guide/indexing.html#returning-a-view-versus-a-copy\n",
      "  weight[i]= y\n",
      "C:\\Users\\Admin\\AppData\\Local\\Temp\\ipykernel_12208\\349082879.py:21: SettingWithCopyWarning: \n",
      "A value is trying to be set on a copy of a slice from a DataFrame\n",
      "\n",
      "See the caveats in the documentation: https://pandas.pydata.org/pandas-docs/stable/user_guide/indexing.html#returning-a-view-versus-a-copy\n",
      "  weight[i]= y\n",
      "C:\\Users\\Admin\\AppData\\Local\\Temp\\ipykernel_12208\\349082879.py:21: SettingWithCopyWarning: \n",
      "A value is trying to be set on a copy of a slice from a DataFrame\n",
      "\n",
      "See the caveats in the documentation: https://pandas.pydata.org/pandas-docs/stable/user_guide/indexing.html#returning-a-view-versus-a-copy\n",
      "  weight[i]= y\n"
     ]
    }
   ],
   "source": [
    "weight = df['Weight']\n",
    "\n",
    "for i in range(0,len(weight)):\n",
    "    x= str(weight[i])\n",
    "\n",
    "    #Incase lbs is part of observation remove it\n",
    "    if \"lbs\" in x[-3:]:\n",
    "\n",
    "        #Remove the lbs from the value\n",
    "        x = x[:-3:]\n",
    "\n",
    "        #Convert string to float\n",
    "        float_x = float(x)\n",
    "\n",
    "        #Convert to kgs and store as int\n",
    "        y =int(float_x/2.2)\n",
    "\n",
    "        #Convert back to string\n",
    "        y = str(y)+\"kgs\"\n",
    "\n",
    "        weight[i]= y\n",
    "\n",
    "print (df)"
   ]
  },
  {
   "cell_type": "markdown",
   "metadata": {},
   "source": [
    "Vấn đề 4: Vấn đề về xuất hiện dòng dữ liệu rỗng (không có giá trị: NaN). Giải pháp có \n",
    "thể đưa ra là xóa bỏ"
   ]
  },
  {
   "cell_type": "code",
   "execution_count": 22,
   "metadata": {},
   "outputs": [
    {
     "name": "stdout",
     "output_type": "stream",
     "text": [
      "      Id   Age Weight m0006 m0612 m1218 f0006 f0612 f1218 Firstname Lastname\n",
      "0    1.0  56.0  70kgs    72    69    71     -     -     -    Mickéy    Mousé\n",
      "1    2.0  34.0  70kgs     -     -     -    85    84    76    Donald     Duck\n",
      "2    3.0  16.0    NaN     -     -     -    65    69    72      Mini    Mouse\n",
      "3    4.0   NaN  78kgs    78    79    72     -     -     -   Scrooge   McDuck\n",
      "4    5.0  54.0  90kgs     -     -     -    69   NaN    75      Pink  Panther\n",
      "5    6.0  52.0  85kgs     -     -     -    68    75    72      Huey   McDuck\n",
      "6    7.0  19.0  56kgs     -     -     -    71    78    75     Dewey   McDuck\n",
      "7    8.0  32.0  78kgs    78    76    75     -     -     -    Scööpy      Doo\n",
      "10   9.0  52.0  85kgs     -     -     -    68    75    72      Huey   McDuck\n",
      "11  10.0  12.0  45kgs     -     -     -    92    95    87     Louie   McDuck\n",
      "12  11.0   NaN  60kgs    78    75    72     -     -     -     Henry      Nam\n",
      "13  12.0  34.0    NaN    65    67    55     -     -     -    Michel     Long\n",
      "14  13.0   NaN    NaN     -     -     -    68    72    70      Tana    Ricky\n",
      "15  14.0   NaN    NaN   NaN   NaN   NaN   NaN   NaN   NaN  UniLever     None\n",
      "16  15.0  52.0  81kgs     -     -     -    68    75    72       NaN      NaN\n"
     ]
    }
   ],
   "source": [
    "df.dropna(how=\"all\",inplace=True)\n",
    "print(df)"
   ]
  },
  {
   "cell_type": "markdown",
   "metadata": {},
   "source": [
    "Vấn đề 5: Có nhiều dòng dữ liệu bị trùng lắp thông tin hoàn toàn[fullname, lastname, \n",
    "age, weight,....], giải pháp đưa ra là chỉ giữ lại một dòng dữ liệu, tuy nhiên giải pháp phải \n",
    "dựa trên nghiệp vụ của tập dữ liệu và quan sát của người xử lý. "
   ]
  },
  {
   "cell_type": "code",
   "execution_count": 23,
   "metadata": {},
   "outputs": [
    {
     "name": "stdout",
     "output_type": "stream",
     "text": [
      "      Id   Age Weight m0006 m0612 m1218 f0006 f0612 f1218 Firstname Lastname\n",
      "0    1.0  56.0  70kgs    72    69    71     -     -     -    Mickéy    Mousé\n",
      "1    2.0  34.0  70kgs     -     -     -    85    84    76    Donald     Duck\n",
      "2    3.0  16.0    NaN     -     -     -    65    69    72      Mini    Mouse\n",
      "3    4.0   NaN  78kgs    78    79    72     -     -     -   Scrooge   McDuck\n",
      "4    5.0  54.0  90kgs     -     -     -    69   NaN    75      Pink  Panther\n",
      "5    6.0  52.0  85kgs     -     -     -    68    75    72      Huey   McDuck\n",
      "6    7.0  19.0  56kgs     -     -     -    71    78    75     Dewey   McDuck\n",
      "7    8.0  32.0  78kgs    78    76    75     -     -     -    Scööpy      Doo\n",
      "11  10.0  12.0  45kgs     -     -     -    92    95    87     Louie   McDuck\n",
      "12  11.0   NaN  60kgs    78    75    72     -     -     -     Henry      Nam\n",
      "13  12.0  34.0    NaN    65    67    55     -     -     -    Michel     Long\n",
      "14  13.0   NaN    NaN     -     -     -    68    72    70      Tana    Ricky\n",
      "15  14.0   NaN    NaN   NaN   NaN   NaN   NaN   NaN   NaN  UniLever     None\n",
      "16  15.0  52.0  81kgs     -     -     -    68    75    72       NaN      NaN\n"
     ]
    }
   ],
   "source": [
    "df = df.drop_duplicates(subset=['Firstname', 'Lastname', 'Age', 'Weight'])\n",
    "print(df)"
   ]
  },
  {
   "cell_type": "markdown",
   "metadata": {},
   "source": [
    "Vấn đề 6: Xuất hiện dữ liệu bị ảnh hưởng bởi lỗi non-ASCII, không định dạng ASCII. \n",
    "Giải pháp: Tùy vào nghiệp vụ ta có thể: xóa dữ liệu tại đó, thay thế bằng dữ liệu khác \n",
    "hoặc thay bằng việc đánh dấu bằng một kí tự khác (ví dụ: ‘warning’)"
   ]
  },
  {
   "cell_type": "code",
   "execution_count": 24,
   "metadata": {},
   "outputs": [
    {
     "name": "stdout",
     "output_type": "stream",
     "text": [
      "      Id   Age Weight m0006 m0612 m1218 f0006 f0612 f1218 Firstname Lastname\n",
      "0    1.0  56.0  70kgs    72    69    71     -     -     -     Micky     Mous\n",
      "1    2.0  34.0  70kgs     -     -     -    85    84    76    Donald     Duck\n",
      "2    3.0  16.0    NaN     -     -     -    65    69    72      Mini    Mouse\n",
      "3    4.0   NaN  78kgs    78    79    72     -     -     -   Scrooge   McDuck\n",
      "4    5.0  54.0  90kgs     -     -     -    69   NaN    75      Pink  Panther\n",
      "5    6.0  52.0  85kgs     -     -     -    68    75    72      Huey   McDuck\n",
      "6    7.0  19.0  56kgs     -     -     -    71    78    75     Dewey   McDuck\n",
      "7    8.0  32.0  78kgs    78    76    75     -     -     -      Scpy      Doo\n",
      "11  10.0  12.0  45kgs     -     -     -    92    95    87     Louie   McDuck\n",
      "12  11.0   NaN  60kgs    78    75    72     -     -     -     Henry      Nam\n",
      "13  12.0  34.0    NaN    65    67    55     -     -     -    Michel     Long\n",
      "14  13.0   NaN    NaN     -     -     -    68    72    70      Tana    Ricky\n",
      "15  14.0   NaN    NaN   NaN   NaN   NaN   NaN   NaN   NaN  UniLever     None\n",
      "16  15.0  52.0  81kgs     -     -     -    68    75    72       NaN      NaN\n"
     ]
    },
    {
     "name": "stderr",
     "output_type": "stream",
     "text": [
      "C:\\Users\\Admin\\AppData\\Local\\Temp\\ipykernel_12208\\1126816188.py:1: FutureWarning: A value is trying to be set on a copy of a DataFrame or Series through chained assignment using an inplace method.\n",
      "The behavior will change in pandas 3.0. This inplace method will never work because the intermediate object on which we are setting values always behaves as a copy.\n",
      "\n",
      "For example, when doing 'df[col].method(value, inplace=True)', try using 'df.method({col: value}, inplace=True)' or df[col] = df[col].method(value) instead, to perform the operation inplace on the original object.\n",
      "\n",
      "\n",
      "  df.Firstname.replace({r'[^\\x00-\\x7F]+': ''}, regex=True, inplace=True)\n",
      "C:\\Users\\Admin\\AppData\\Local\\Temp\\ipykernel_12208\\1126816188.py:2: FutureWarning: A value is trying to be set on a copy of a DataFrame or Series through chained assignment using an inplace method.\n",
      "The behavior will change in pandas 3.0. This inplace method will never work because the intermediate object on which we are setting values always behaves as a copy.\n",
      "\n",
      "For example, when doing 'df[col].method(value, inplace=True)', try using 'df.method({col: value}, inplace=True)' or df[col] = df[col].method(value) instead, to perform the operation inplace on the original object.\n",
      "\n",
      "\n",
      "  df.Lastname.replace({r'[^\\x00-\\x7F]+': ''}, regex=True, inplace=True)\n"
     ]
    }
   ],
   "source": [
    "df.Firstname.replace({r'[^\\x00-\\x7F]+': ''}, regex=True, inplace=True)\n",
    "df.Lastname.replace({r'[^\\x00-\\x7F]+': ''}, regex=True, inplace=True)\n",
    "print(df)"
   ]
  },
  {
   "cell_type": "markdown",
   "metadata": {},
   "source": [
    "Vấn đề 7: “Missing values”, vấn đề này xảy ra tại các cột “Age”, “Weight” và “Heart \n",
    "Rate”. Thiếu dữ liệu (dữ liệu không đầy đủ) là vấn đề xảy ra nhiều trong các nguồn dữ \n",
    "liệu do nhiều nguyên nhân chủ quan lẫn khách quan.Có một vài giải pháp để xử lý vấn đề \n",
    "này, chủ yếu dựa trên kinh nghiệm và nghiệp vụ về tập dữ liệu đó. Một số giải pháp đưa \n",
    "đề xuất từ chuyên gia như sau"
   ]
  },
  {
   "cell_type": "code",
   "execution_count": 25,
   "metadata": {},
   "outputs": [
    {
     "name": "stdout",
     "output_type": "stream",
     "text": [
      "    Id   Age Weight m0006 m0612 m1218 f0006 f0612 f1218 Firstname Lastname\n",
      "0  1.0  56.0  70kgs    72    69    71     -     -     -     Micky     Mous\n",
      "1  2.0  34.0  70kgs     -     -     -    85    84    76    Donald     Duck\n",
      "2  3.0  16.0    NaN     -     -     -    65    69    72      Mini    Mouse\n",
      "3  4.0  36.1  78kgs    78    79    72     -     -     -   Scrooge   McDuck\n",
      "4  5.0  54.0  90kgs     -     -     -    69   NaN    75      Pink  Panther\n"
     ]
    }
   ],
   "source": [
    "# Kiểm tra thông tin dữ liệu\n",
    "missing_values = df[['Age', 'Weight']].isnull().sum()\n",
    "\n",
    "# Xử lý dữ liệu thiếu\n",
    "# Tính giá trị trung bình của cột Age (bỏ qua giá trị NaN)\n",
    "mean_age = df['Age'].mean()\n",
    "\n",
    "# Thay thế giá trị thiếu của Age bằng giá trị trung bình\n",
    "df['Age'] = df['Age'].fillna(mean_age)\n",
    "\n",
    "# Xóa dòng nếu cả Age và Weight đều bị thiếu\n",
    "df.dropna(subset=['Age', 'Weight'], how='all', inplace=True)\n",
    "\n",
    "# Thống kê dữ liệu thiếu sau khi xử lý\n",
    "missing_values_after = df[['Age', 'Weight']].isnull().sum()\n",
    "print(df.head())"
   ]
  },
  {
   "cell_type": "markdown",
   "metadata": {},
   "source": [
    "vấn đề 8 “một cột chứa quá nhiều thông tin cần được phân rã”, như trong bài toán này ta \n",
    "thấy header “m0006” chứa các nội dung bao gồm: m → male, 1218 ~ 12-18 (mm-dd). \n",
    "Còn giá trị thì là kết quả huyết áp. \n"
   ]
  },
  {
   "cell_type": "code",
   "execution_count": 28,
   "metadata": {},
   "outputs": [
    {
     "name": "stdout",
     "output_type": "stream",
     "text": [
      "      Id   Age Weight Firstname Lastname PulseRate Sex   Time\n",
      "0    1.0  56.0  70kgs     Micky     Mous        72   m  000.6\n",
      "14   1.0  56.0  70kgs     Micky     Mous        69   m  061.2\n",
      "28   1.0  56.0  70kgs     Micky     Mous        71   m  121.8\n",
      "42   1.0  56.0  70kgs     Micky     Mous         -   f  000.6\n",
      "56   1.0  56.0  70kgs     Micky     Mous         -   f  061.2\n",
      "70   1.0  56.0  70kgs     Micky     Mous         -   f  121.8\n",
      "1    2.0  34.0  70kgs    Donald     Duck         -   m  000.6\n",
      "15   2.0  34.0  70kgs    Donald     Duck         -   m  061.2\n",
      "29   2.0  34.0  70kgs    Donald     Duck         -   m  121.8\n",
      "43   2.0  34.0  70kgs    Donald     Duck        85   f  000.6\n",
      "57   2.0  34.0  70kgs    Donald     Duck        84   f  061.2\n",
      "71   2.0  34.0  70kgs    Donald     Duck        76   f  121.8\n",
      "3    4.0  36.1  78kgs   Scrooge   McDuck        78   m  000.6\n",
      "17   4.0  36.1  78kgs   Scrooge   McDuck        79   m  061.2\n",
      "31   4.0  36.1  78kgs   Scrooge   McDuck        72   m  121.8\n",
      "45   4.0  36.1  78kgs   Scrooge   McDuck         -   f  000.6\n",
      "59   4.0  36.1  78kgs   Scrooge   McDuck         -   f  061.2\n",
      "73   4.0  36.1  78kgs   Scrooge   McDuck         -   f  121.8\n",
      "4    5.0  54.0  90kgs      Pink  Panther         -   m  000.6\n",
      "18   5.0  54.0  90kgs      Pink  Panther         -   m  061.2\n",
      "32   5.0  54.0  90kgs      Pink  Panther         -   m  121.8\n",
      "46   5.0  54.0  90kgs      Pink  Panther        69   f  000.6\n",
      "74   5.0  54.0  90kgs      Pink  Panther        75   f  121.8\n",
      "5    6.0  52.0  85kgs      Huey   McDuck         -   m  000.6\n",
      "19   6.0  52.0  85kgs      Huey   McDuck         -   m  061.2\n",
      "33   6.0  52.0  85kgs      Huey   McDuck         -   m  121.8\n",
      "47   6.0  52.0  85kgs      Huey   McDuck        68   f  000.6\n",
      "61   6.0  52.0  85kgs      Huey   McDuck        75   f  061.2\n",
      "75   6.0  52.0  85kgs      Huey   McDuck        72   f  121.8\n",
      "6    7.0  19.0  56kgs     Dewey   McDuck         -   m  000.6\n",
      "20   7.0  19.0  56kgs     Dewey   McDuck         -   m  061.2\n",
      "34   7.0  19.0  56kgs     Dewey   McDuck         -   m  121.8\n",
      "48   7.0  19.0  56kgs     Dewey   McDuck        71   f  000.6\n",
      "62   7.0  19.0  56kgs     Dewey   McDuck        78   f  061.2\n",
      "76   7.0  19.0  56kgs     Dewey   McDuck        75   f  121.8\n",
      "7    8.0  32.0  78kgs      Scpy      Doo        78   m  000.6\n",
      "21   8.0  32.0  78kgs      Scpy      Doo        76   m  061.2\n",
      "35   8.0  32.0  78kgs      Scpy      Doo        75   m  121.8\n",
      "49   8.0  32.0  78kgs      Scpy      Doo         -   f  000.6\n",
      "63   8.0  32.0  78kgs      Scpy      Doo         -   f  061.2\n",
      "77   8.0  32.0  78kgs      Scpy      Doo         -   f  121.8\n",
      "8   10.0  12.0  45kgs     Louie   McDuck         -   m  000.6\n",
      "22  10.0  12.0  45kgs     Louie   McDuck         -   m  061.2\n",
      "36  10.0  12.0  45kgs     Louie   McDuck         -   m  121.8\n",
      "50  10.0  12.0  45kgs     Louie   McDuck        92   f  000.6\n",
      "64  10.0  12.0  45kgs     Louie   McDuck        95   f  061.2\n",
      "78  10.0  12.0  45kgs     Louie   McDuck        87   f  121.8\n",
      "9   11.0  36.1  60kgs     Henry      Nam        78   m  000.6\n",
      "23  11.0  36.1  60kgs     Henry      Nam        75   m  061.2\n",
      "37  11.0  36.1  60kgs     Henry      Nam        72   m  121.8\n",
      "51  11.0  36.1  60kgs     Henry      Nam         -   f  000.6\n",
      "65  11.0  36.1  60kgs     Henry      Nam         -   f  061.2\n",
      "79  11.0  36.1  60kgs     Henry      Nam         -   f  121.8\n"
     ]
    }
   ],
   "source": [
    "# Melt the Sex + time range columns in single column\n",
    "df = pd.melt(df, id_vars=['Id', 'Age', 'Weight', 'Firstname', 'Lastname'], \n",
    "             value_name=\"PulseRate\", var_name=\"sex_and_time\").sort_values(['Id', 'Age', 'Weight', 'Firstname', 'Lastname'])\n",
    "\n",
    "# Extract Sex, Hour lower bound and Hour upper bound group\n",
    "tmp_df = df[\"sex_and_time\"].str.extract(r\"(\\D)(\\d+)(\\d+)\", expand=True)\n",
    "\n",
    "# Name columns\n",
    "tmp_df.columns = [\"Sex\", \"hours_lower\", \"hours_upper\"]\n",
    "\n",
    "# Create Time column based on \"hours_lower\" and \"hours_upper\" columns\n",
    "tmp_df[\"Time\"] = tmp_df[\"hours_lower\"] + \".\" + tmp_df[\"hours_upper\"]\n",
    "\n",
    "# Merge\n",
    "df = pd.concat([df, tmp_df], axis=1)\n",
    "\n",
    "# Drop unnecessary columns and rows\n",
    "df = df.drop(['sex_and_time', 'hours_lower', 'hours_upper'], axis=1)\n",
    "df = df.dropna()\n",
    "df.to_csv(\"outputcleanup.csv\", index=False)\n",
    "\n",
    "print(df)\n"
   ]
  },
  {
   "cell_type": "markdown",
   "metadata": {},
   "source": [
    " 11 Hãy khảo sát tỉ lệ dữ liệu thiếu trên biến huyết áp. Dữ liệu bị thiếu thì hãy xử lý bằng \n",
    "phương pháp sau \n"
   ]
  },
  {
   "cell_type": "code",
   "execution_count": 31,
   "metadata": {},
   "outputs": [
    {
     "name": "stdout",
     "output_type": "stream",
     "text": [
      "     Id   Age Weight Sex       Time  PulseRate\n",
      "0   1.0  56.0  70kgs   m 2061-01-01       69.0\n",
      "1   2.0  34.0  70kgs   f 2061-01-01       84.0\n",
      "2   4.0  36.1  78kgs   m 2061-01-01       79.0\n",
      "3   6.0  52.0  85kgs   f 2061-01-01       75.0\n",
      "4   7.0  19.0  56kgs   f 2061-01-01       78.0\n",
      "5   8.0  32.0  78kgs   m 2061-01-01       76.0\n",
      "6  10.0  12.0  45kgs   f 2061-01-01       95.0\n",
      "7  11.0  36.1  60kgs   m 2061-01-01       75.0\n"
     ]
    }
   ],
   "source": [
    "import numpy as np\n",
    "import pandas as pd\n",
    "\n",
    "def fill_missing_pulse_rate(df):\n",
    "    df['PulseRate'] = pd.to_numeric(df['PulseRate'], errors='coerce')  # Chuyển về kiểu số\n",
    "    \n",
    "    for index, row in df.iterrows():\n",
    "        if pd.isna(row['PulseRate']):  # Kiểm tra giá trị thiếu\n",
    "            person_id = row['Id']\n",
    "            person_data = df[df['Id'] == person_id]\n",
    "\n",
    "            # 1️⃣ Trung bình liền trước & liền sau\n",
    "            prev_idx = index - 1 if index > 0 else None\n",
    "            next_idx = index + 1 if index < len(df) - 1 else None\n",
    "\n",
    "            if prev_idx is not None and next_idx is not None:\n",
    "                prev_val = df.loc[prev_idx, 'PulseRate']\n",
    "                next_val = df.loc[next_idx, 'PulseRate']\n",
    "\n",
    "                if not pd.isna(prev_val) and not pd.isna(next_val):\n",
    "                    df.at[index, 'PulseRate'] = (prev_val + next_val) / 2\n",
    "                    continue\n",
    "\n",
    "            # 2️⃣ Trung bình 2 giá trị liền trước\n",
    "            prev_vals = person_data['PulseRate'].iloc[:index].dropna().tail(2)\n",
    "            if len(prev_vals) == 2:\n",
    "                df.at[index, 'PulseRate'] = prev_vals.mean()\n",
    "                continue\n",
    "\n",
    "            # 3️⃣ Trung bình 2 giá trị liền sau\n",
    "            next_vals = person_data['PulseRate'].iloc[index+1:].dropna().head(2)\n",
    "            if len(next_vals) == 2:\n",
    "                df.at[index, 'PulseRate'] = next_vals.mean()\n",
    "                continue\n",
    "\n",
    "            # 4️⃣ Trung bình các giá trị của người đó\n",
    "            person_mean = person_data['PulseRate'].mean()\n",
    "            if not pd.isna(person_mean):\n",
    "                df.at[index, 'PulseRate'] = person_mean\n",
    "                continue\n",
    "\n",
    "            # 5️⃣ Trung bình nhóm giới tính\n",
    "            gender = row['Sex']\n",
    "            gender_mean = df[df['Sex'] == gender]['PulseRate'].mean()\n",
    "            if not pd.isna(gender_mean):\n",
    "                df.at[index, 'PulseRate'] = gender_mean\n",
    "                continue\n",
    "\n",
    "            # 6️⃣ Trung bình toàn bộ dữ liệu\n",
    "            global_mean = df['PulseRate'].mean()\n",
    "            if not pd.isna(global_mean):\n",
    "                df.at[index, 'PulseRate'] = global_mean\n",
    "                continue\n",
    "\n",
    "            # 7️⃣ Nếu không có dữ liệu, thay bằng mức ổn định (75 bpm)\n",
    "            df.at[index, 'PulseRate'] = 75\n",
    "\n",
    "    return df\n",
    "\n",
    "# Áp dụng hàm\n",
    "df = fill_missing_pulse_rate(df)\n",
    "print(df.head(10))\n",
    "\n"
   ]
  },
  {
   "cell_type": "markdown",
   "metadata": {},
   "source": [
    " 12 Hãy rút gọn dữ liệu phù hợp và reindex lại dữ liệu. Sau đó, lưu trữ dữ liệu đã xử lý thành \n",
    "công với tên file patient_heart_rate_clean.csv \n"
   ]
  },
  {
   "cell_type": "code",
   "execution_count": 30,
   "metadata": {},
   "outputs": [
    {
     "name": "stdout",
     "output_type": "stream",
     "text": [
      "    Id   Age Weight Sex       Time  PulseRate\n",
      "0  1.0  56.0  70kgs   m 2061-01-01       69.0\n",
      "1  2.0  34.0  70kgs   f 2061-01-01       84.0\n",
      "2  4.0  36.1  78kgs   m 2061-01-01       79.0\n",
      "3  6.0  52.0  85kgs   f 2061-01-01       75.0\n",
      "4  7.0  19.0  56kgs   f 2061-01-01       78.0\n"
     ]
    },
    {
     "name": "stderr",
     "output_type": "stream",
     "text": [
      "C:\\Users\\Admin\\AppData\\Local\\Temp\\ipykernel_12208\\3513691166.py:13: UserWarning: Could not infer format, so each element will be parsed individually, falling back to `dateutil`. To ensure parsing is consistent and as-expected, please specify a format.\n",
      "  df['Time'] = pd.to_datetime(df['Time'], errors='coerce')  # Chuyển đổi về định dạng datetime\n"
     ]
    }
   ],
   "source": [
    "import pandas as pd\n",
    "\n",
    "\n",
    "# Chọn các cột quan trọng\n",
    "important_columns = ['Id', 'Age', 'Weight', 'Sex', 'Time', 'PulseRate']\n",
    "df = df[important_columns]\n",
    "\n",
    "# Xử lý dữ liệu bị thiếu (nếu có)\n",
    "df = df.dropna()  # Loại bỏ hàng có giá trị NaN (nếu có)\n",
    "\n",
    "# Xử lý cột ngày tháng (nếu có cột chứa ngày)\n",
    "if 'Time' in df.columns:\n",
    "    df['Time'] = pd.to_datetime(df['Time'], errors='coerce')  # Chuyển đổi về định dạng datetime\n",
    "    df = df.dropna(subset=['Time'])  # Nếu Time có lỗi chuyển đổi thì loại bỏ hàng đó\n",
    "\n",
    "# Reindex lại dữ liệu\n",
    "df = df.sort_values(by=['Id', 'Time']).reset_index(drop=True)\n",
    "\n",
    "# Lưu dữ liệu đã xử lý thành file mới\n",
    "df.to_csv(\"patient_heart_rate_clean.csv\", index=False)\n",
    "\n",
    "# Hiển thị 5 dòng đầu tiên\n",
    "print(df.head())\n"
   ]
  }
 ],
 "metadata": {
  "kernelspec": {
   "display_name": "Python 3",
   "language": "python",
   "name": "python3"
  },
  "language_info": {
   "codemirror_mode": {
    "name": "ipython",
    "version": 3
   },
   "file_extension": ".py",
   "mimetype": "text/x-python",
   "name": "python",
   "nbconvert_exporter": "python",
   "pygments_lexer": "ipython3",
   "version": "3.11.0"
  },
  "orig_nbformat": 4,
  "vscode": {
   "interpreter": {
    "hash": "11938c6bc6919ae2720b4d5011047913343b08a43b18698fd82dedb0d4417594"
   }
  }
 },
 "nbformat": 4,
 "nbformat_minor": 2
}
